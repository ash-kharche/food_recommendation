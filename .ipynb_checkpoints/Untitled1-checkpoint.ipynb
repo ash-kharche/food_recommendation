{
 "cells": [
  {
   "cell_type": "code",
   "execution_count": 16,
   "metadata": {},
   "outputs": [
    {
     "ename": "SyntaxError",
     "evalue": "'return' outside function (<ipython-input-16-4fbe722129a4>, line 18)",
     "output_type": "error",
     "traceback": [
      "\u001b[0;36m  File \u001b[0;32m\"<ipython-input-16-4fbe722129a4>\"\u001b[0;36m, line \u001b[0;32m18\u001b[0m\n\u001b[0;31m    return json.dumps(rows, indent=2)\u001b[0m\n\u001b[0m                                     ^\u001b[0m\n\u001b[0;31mSyntaxError\u001b[0m\u001b[0;31m:\u001b[0m 'return' outside function\n"
     ]
    }
   ],
   "source": [
    "#!/usr/bin/python\n",
    "import sys\n",
    "import psycopg2\n",
    "from psycopg2.extras import RealDictCursor\n",
    "import json\n",
    "\n",
    "conn = psycopg2.connect(database = \"de7pit5nq8p35l\", user = \"uvzjkvhjhvrevn\", password = \"e9fa122e883f4af209c53c4586f1e7d2e38fee3495a03873c0191b98cea73fb2\", host = \"ec2-54-243-223-245.compute-1.amazonaws.com\", port = \"5432\")\n",
    "cursor = conn.cursor(cursor_factory=RealDictCursor)\n",
    "\n",
    "postgreSQL_select_Query = \"SELECT product_name, rating FROM products\"\n",
    "cursor.execute(postgreSQL_select_Query)\n",
    "rows = cursor.fetchall()\n",
    "\n",
    "cursor.close()\n",
    "conn.commit()\n",
    "conn.close()\n",
    "\n",
    "print(json.dumps(rows, indent=2))\n",
    "sys.stdout.flush()\n"
   ]
  },
  {
   "cell_type": "code",
   "execution_count": null,
   "metadata": {},
   "outputs": [],
   "source": []
  }
 ],
 "metadata": {
  "kernelspec": {
   "display_name": "Python 3",
   "language": "python",
   "name": "python3"
  },
  "language_info": {
   "codemirror_mode": {
    "name": "ipython",
    "version": 3
   },
   "file_extension": ".py",
   "mimetype": "text/x-python",
   "name": "python",
   "nbconvert_exporter": "python",
   "pygments_lexer": "ipython3",
   "version": "3.7.2"
  }
 },
 "nbformat": 4,
 "nbformat_minor": 2
}
